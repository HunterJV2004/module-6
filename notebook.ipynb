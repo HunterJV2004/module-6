{
 "cells": [
  {
   "cell_type": "code",
   "execution_count": 11,
   "metadata": {},
   "outputs": [
    {
     "name": "stdout",
     "output_type": "stream",
     "text": [
      "July 13, 2024\n"
     ]
    }
   ],
   "source": [
    "file = open(\"today.txt\", \"r\")\n",
    "months = [\"January\", \"February\", \"March\", \"April\", \"May\", \"June\", \"July\", \"August\",\"September\",\"October\",\"November\",\"December\"]\n",
    "today_string = file.readline()\n",
    "today_list = list(today_string)\n",
    "today_string = \"\"\n",
    "day = \"\"\n",
    "year = \"\"\n",
    "i = 0\n",
    "for x in today_list: #Turns #/##/#### format into Month Day, Year\n",
    "    if x == '/':\n",
    "        i= i + 1 #i++\n",
    "    elif i==0:\n",
    "        today_string += x\n",
    "    elif i==1:\n",
    "        day += x\n",
    "    elif i==2:\n",
    "        year += x\n",
    "today_string = months[int(today_string)-1] + \" \" + day + \", \" + year\n",
    "print(today_string)"
   ]
  },
  {
   "cell_type": "code",
   "execution_count": 24,
   "metadata": {},
   "outputs": [
    {
     "name": "stdout",
     "output_type": "stream",
     "text": [
      "2024-07-16 17:22:40.960019\n",
      "2024-07-16 17:22:42.153419 p1\n",
      "2024-07-16 17:22:42.153419\n",
      "2024-07-16 17:22:43.053746 p2\n",
      "2024-07-16 17:22:43.053746\n",
      "2024-07-16 17:22:47.579880 p3\n"
     ]
    }
   ],
   "source": [
    "import multiprocessing\n",
    "import time\n",
    "from datetime import datetime\n",
    "import random\n",
    "\n",
    "def random_time(process):\n",
    "    print(datetime.now())\n",
    "    time.sleep(random.random()*5)\n",
    "    print(str(datetime.now()) + \" \" +process)\n",
    "    \n",
    "if __name__ == '__main__':\n",
    "    p1 = multiprocessing.Process(target=random_time(\"p1\"))\n",
    "    p2 = multiprocessing.Process(target=random_time(\"p2\"))\n",
    "    p3 = multiprocessing.Process(target=random_time(\"p3\"))\n",
    "    p1, p2, p3.start()\n",
    "    \n",
    "\n",
    "    \n",
    "    "
   ]
  }
 ],
 "metadata": {
  "kernelspec": {
   "display_name": "Python 3",
   "language": "python",
   "name": "python3"
  },
  "language_info": {
   "codemirror_mode": {
    "name": "ipython",
    "version": 3
   },
   "file_extension": ".py",
   "mimetype": "text/x-python",
   "name": "python",
   "nbconvert_exporter": "python",
   "pygments_lexer": "ipython3",
   "version": "3.11.9"
  }
 },
 "nbformat": 4,
 "nbformat_minor": 2
}
